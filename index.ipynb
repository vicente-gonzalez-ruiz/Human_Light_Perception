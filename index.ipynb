{
 "cells": [
  {
   "cell_type": "markdown",
   "metadata": {},
   "source": [
    "# Human Perception of the Light"
   ]
  },
  {
   "cell_type": "markdown",
   "metadata": {},
   "source": [
    "## Basics\n",
    "* The light produces an excitation of the photo-sensitive cells of our retina (cones and rods) that transmit nerve impulses to our brain."
   ]
  },
  {
   "cell_type": "markdown",
   "metadata": {},
   "source": [
    "## Perception of light intensity\n",
    "\n",
    "* The level of perceived (subjective) illumination is, in general, a logarithmic function of the intensity of light incident on the eye (Weber-Fechner's Law).\n",
    "\n",
    "<img src=\"data/umbral_de_vision.png\" width=300>\n",
    "\n",
    "* However, the perceived luminous intensity (or luminance) also depends on many other factors:\n",
    "    1. The state of previous adaptation of the eye.\n",
    "    2. The observation time.\n",
    "    3. The area of the retina impressed.\n",
    "    4. The luminance of the contour.\n",
    "    5. The color."
   ]
  },
  {
   "cell_type": "markdown",
   "metadata": {},
   "source": [
    "## The perceived luminance depends on the observation time\n",
    "\n",
    "<img src=\"data/punto_y_difuminado.png\" width=300>\n",
    "<center>Fixing the eyes on the black point, the gray outline should disappear.</center>"
   ]
  },
  {
   "cell_type": "markdown",
   "metadata": {},
   "source": [
    "## The perceived luminance depends on the area of the retina impressed\n",
    "\n",
    "* To verify that the perceived level of illumination depends on the area of the retina impressed, perform the following experiment:\n",
    "\n",
    "    Enter a darkened room (with a very low level of illumination) from another room in which there is enough light, and try to discern an object by looking directly at it and looking at it out of the corner of your eye. You will see that the second option is better because we excite the canes. You will notice, however, that you are not able to distinguish the details of the object.\n",
    "    \n",
    "\n",
    "* This is also shown in the following image (when looking at the white circles, we will see that only when we look at them they look white, others look black):\n",
    "\n",
    "<img src=\"data/rectangulos_negros.png\">"
   ]
  },
  {
   "cell_type": "markdown",
   "metadata": {},
   "source": [
    "## The perceived luminance depends on the level of illumination of the contour\n",
    "\n",
    "* the level of perceived luminance does not depend only on the intensity at a point, but also depends on the intensity of the neighboring points\n",
    "\n",
    "<img src=\"data/escaleras1.png\">\n",
    "<img src=\"data/contraste_simultaneo.png\">\n",
    "<center>El tono de gris del cuadrado interno siempre tiene el mismo valor.</center>\n",
    "\n",
    "* Therefore, we can say that the HVS tends to overestimate the boundaries between objects."
   ]
  },
  {
   "cell_type": "markdown",
   "metadata": {},
   "source": [
    "## The perceived luminance depends on the color of the light\n",
    "\n",
    "<img src=\"data/espectro_visible.png\" width=400>\n",
    "<center>In the figure all colors appear exactly with the same intensity.</center>\n",
    "\n",
    "* As you can see, the HVS is more sensitive to yellow and green than blue or red (these are less dazzling).\n",
    "* Relative sensitivity of the HVS depending on the color:\n",
    "\n",
    "<img src=\"data/sensibilidad_relativa.png\" width=400>\n",
    "\n",
    "* This causes, for example, that when we spend enough time in a room with only red light or wear red glasses, the threshold of vision is very low (almost the same as we would have achieved if we stayed a long time in the dark)."
   ]
  },
  {
   "cell_type": "markdown",
   "metadata": {},
   "source": [
    "## Other visual effects\n",
    "\n",
    "* The HVS perceives the distance to the objects depending on the color and the area of the sensitized retina. Here we have some examples (in the following image the red squares seem to be at a different distance than the blue squares):\n",
    "\n",
    "<img src=\"data/cuadrados_rojo_y_azules.png\">\n",
    "\n",
    "* Moving away or getting closer to the next image, and looking at the black point, we will appreciate how the outer rings will rotate in the opposite direction. This is because the relative position of the objects that appear in the visual scene depends on the area of the sensitized retina.\n",
    "\n",
    "<img src=\"data/rueda.png\" width=500>\n",
    "\n",
    "* The following image puts the perceptive capacity of the SVH to the limit. It is a very high frequency image in which a pair of patterns are repeated periodically. After looking at it for a while, only the part of the image that falls on the fovea is perceived without oscillation (without apparent movement).\n",
    "\n",
    "<img src=\"data/mareo.png\">\n",
    "\n",
    "* The light that falls on the blind spot is not used in the vision process.\n",
    "\n",
    "<img src=\"data/punto_ciego.png\" width=500>\n",
    "<center>With the right eye covered, look at the X and vice versa. If the point does not disappear, get closer or stay away from the image.</center>"
   ]
  },
  {
   "cell_type": "markdown",
   "metadata": {},
   "source": [
    "## Visual acuity\n",
    "\n",
    "* Measures the ability to discern high frequencies (for example, 2 very close points). It depends primarily on the concentration of cones on the retinal surface and the accuracy of the eye's focus.\n",
    "\n",
    "* The field of vision (area where visual acuity is greater) of the human eye is rectangular ($30^o$ in vertical and $40^o$ in horizontal). Outside of this field, the image does not affect the fovea and is blurred. For this reason, in photographs, in movies, on television, etc., the images are wider than high."
   ]
  },
  {
   "cell_type": "markdown",
   "metadata": {},
   "source": [
    "## The visual persistence\n",
    "\n",
    "* If we visualize a static image (frame) during a time interval, it remains \"printed\" a certain time after the stimulus has disappeared. For this reason, if the frequency of frames is sufficiently high, the disappearance of the previous stimulus can merge with the appearance of the next one. In this way, it may seem that the image is fixed (it does not blink), when in reality it is not like that.\n",
    "\n",
    "* This is used in film and television where 50 (PAL system) or 60 (NTCS system) frames / second are presented respectively. However, even at these frequencies it is possible to see the blinking if the level of luminance of the frames is very high."
   ]
  },
  {
   "cell_type": "markdown",
   "metadata": {},
   "source": [
    "## The feeling of movement\n",
    "\n",
    "* Related to visual persistence is the sensation of movement. When the frequency of static images is sufficient (at least 16 frames/second), the SVH interpolates the missing motion between frames and reconstructs the actual scene.\n",
    "\n",
    "* For example, in the vintage cinema 24 fps are presented, although each frame is repeated once to avoid blinking. PAL TV shows 25 fps (frames per second) and NTSC TV 30 fps. In high definition television the number of frames increases up to 50 fps or 60 fps."
   ]
  },
  {
   "cell_type": "markdown",
   "metadata": {},
   "source": [
    "## Links\n",
    "\n",
    "1. https://ccrma.stanford.edu/~jos/bosse/\n",
    "2. https://en.wikibooks.org/wiki/Engineering_Acoustics/The_Human_Ear_and_Sound_Perception"
   ]
  }
 ],
 "metadata": {
  "kernelspec": {
   "display_name": "Python 3",
   "language": "python",
   "name": "python3"
  },
  "language_info": {
   "codemirror_mode": {
    "name": "ipython",
    "version": 3
   },
   "file_extension": ".py",
   "mimetype": "text/x-python",
   "name": "python",
   "nbconvert_exporter": "python",
   "pygments_lexer": "ipython3",
   "version": "3.6.4"
  }
 },
 "nbformat": 4,
 "nbformat_minor": 2
}
